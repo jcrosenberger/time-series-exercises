{
 "cells": [
  {
   "cell_type": "code",
   "execution_count": 4,
   "id": "33ad7d9f-e8e0-469c-91b8-d50f776e6e76",
   "metadata": {},
   "outputs": [],
   "source": [
    "import requests\n",
    "import math\n",
    "import pandas as pd\n",
    "import numpy as np\n",
    "pd.set_option('display.max_rows', 25)"
   ]
  },
  {
   "cell_type": "code",
   "execution_count": 5,
   "id": "37f86e01-8df3-46f3-9460-3bbacd350dd8",
   "metadata": {},
   "outputs": [],
   "source": [
    "response = requests.get('https://swapi.dev/api/')"
   ]
  },
  {
   "cell_type": "code",
   "execution_count": 6,
   "id": "a4887d09-24ca-449f-9601-9b5f2a4989b0",
   "metadata": {},
   "outputs": [
    {
     "name": "stdout",
     "output_type": "stream",
     "text": [
      "{\"people\":\"https://swapi.dev/api/people/\",\"planets\":\"https://swapi.dev/api/planets/\",\"films\":\"https://swapi.dev/api/films/\",\"species\":\"https://swapi.dev/api/species/\",\"vehicles\":\"https://swapi.dev/api/vehicles/\",\"starships\":\"https://swapi.dev/api/starships/\"}\n"
     ]
    }
   ],
   "source": [
    "print(response.text)"
   ]
  },
  {
   "cell_type": "code",
   "execution_count": null,
   "id": "5224a629-fe0e-4bb0-90ef-f6e922f94ad2",
   "metadata": {},
   "outputs": [],
   "source": [
    "data = response.json()\n",
    "data"
   ]
  },
  {
   "cell_type": "code",
   "execution_count": null,
   "id": "d7df756f-61d1-42f9-b37b-a14805c3a3b1",
   "metadata": {},
   "outputs": [],
   "source": [
    "response = requests.get('https://swapi.dev/api/planets/')"
   ]
  },
  {
   "cell_type": "code",
   "execution_count": null,
   "id": "9b11c5de-38cc-4454-ba21-e466c2dbc93b",
   "metadata": {},
   "outputs": [],
   "source": [
    "data = response.json()\n",
    "data"
   ]
  },
  {
   "cell_type": "code",
   "execution_count": null,
   "id": "0aed0ae3-ce26-4d74-b89b-8236b37ccadf",
   "metadata": {},
   "outputs": [],
   "source": [
    "data['count']"
   ]
  },
  {
   "cell_type": "code",
   "execution_count": null,
   "id": "f6ce8a90-84cd-4dc4-a7a4-69b048255887",
   "metadata": {},
   "outputs": [],
   "source": [
    "data['next']"
   ]
  },
  {
   "cell_type": "code",
   "execution_count": null,
   "id": "8fdab16d-72e6-41bb-99ba-b714e659be17",
   "metadata": {},
   "outputs": [],
   "source": [
    "data['results']"
   ]
  },
  {
   "cell_type": "code",
   "execution_count": null,
   "id": "3a935473-4418-40c9-80d1-25c816a89fb7",
   "metadata": {},
   "outputs": [],
   "source": [
    "len(data['results'])"
   ]
  },
  {
   "cell_type": "code",
   "execution_count": null,
   "id": "42303139-97c1-48ab-ab79-c45101959d02",
   "metadata": {},
   "outputs": [],
   "source": [
    "number_of_planets = data['count']\n",
    "next_page = data['next']\n",
    "previous_page = data['previous']\n",
    "\n",
    "print(f'Number of planets: {number_of_planets}')\n",
    "print(f'Next page: {next_page}')\n",
    "print(f'Previous page: {previous_page}')"
   ]
  },
  {
   "cell_type": "markdown",
   "id": "c775d7f9-9f12-46d8-9c5f-0c784083b673",
   "metadata": {},
   "source": [
    "### How many pages of planets are there?"
   ]
  },
  {
   "cell_type": "code",
   "execution_count": null,
   "id": "bbf00b8f-fe81-432f-b307-a90a1536520c",
   "metadata": {},
   "outputs": [],
   "source": [
    "number_of_results = len(data['results'])\n",
    "max_page = math.ceil(number_of_planets / number_of_results)\n",
    "\n",
    "print(f'Number of results: {number_of_results}')\n",
    "print(f'Total number of pages: {max_page}')"
   ]
  },
  {
   "cell_type": "code",
   "execution_count": null,
   "id": "f92bce29-092a-4ea9-9a1f-7352a8979adf",
   "metadata": {},
   "outputs": [],
   "source": [
    "df = pd.DataFrame(data['results'])\n",
    "df            "
   ]
  },
  {
   "cell_type": "code",
   "execution_count": null,
   "id": "f5d483aa-b02a-4e76-aee4-ea6467ba3acc",
   "metadata": {},
   "outputs": [],
   "source": [
    "response = requests.get(data['next'])\n",
    "data = response.json()"
   ]
  },
  {
   "cell_type": "code",
   "execution_count": null,
   "id": "bcdf4527-d8e4-4856-86e5-cb1afef43ec5",
   "metadata": {},
   "outputs": [],
   "source": [
    "number_of_planets = data['count']\n",
    "next_page = data['next']\n",
    "previous_page = data['previous']\n",
    "number_of_results = len(data['results'])\n",
    "max_page = math.ceil(number_of_planets / number_of_results)\n",
    "\n",
    "print(f'number_of_planets: {number_of_planets}')\n",
    "print(f'next_page: {next_page}')\n",
    "print(f'previous_page: {previous_page}')\n",
    "print(f'number_of_results: {number_of_results}')\n",
    "print(f'max_page: {max_page}')"
   ]
  },
  {
   "cell_type": "code",
   "execution_count": null,
   "id": "e31477d8-b87b-4df8-9d19-8fd98b117a5c",
   "metadata": {},
   "outputs": [],
   "source": [
    "pd.set_option('display.max_rows', 10)"
   ]
  },
  {
   "cell_type": "markdown",
   "id": "15ca266d-a41e-4971-8e2c-3d48db2e4772",
   "metadata": {},
   "source": [
    "## No more fooling around. Exercise begins:"
   ]
  },
  {
   "cell_type": "markdown",
   "id": "c3597886-98ad-4c10-824c-03f6c68750b1",
   "metadata": {},
   "source": [
    "1. Using the code from the lesson as a guide and the REST API from https://swapi.dev/ as we did in the lesson, create a dataframe named people that has all of the data for people.\n",
    "\n",
    "2. Do the same thing, but for planets.\n",
    "\n",
    "3. Extract the data for starships.\n",
    "\n",
    "4. Save the data in your files to local csv files so that it will be faster to access in the future."
   ]
  },
  {
   "cell_type": "code",
   "execution_count": 7,
   "id": "bc68299a-1135-4d69-b66c-2bf98cab6fdb",
   "metadata": {},
   "outputs": [],
   "source": [
    "people_url = 'https://swapi.dev/api/people/'\n",
    "planets_url = 'https://swapi.dev/api/planets/'\n",
    "starships_url = 'https://swapi.dev/api/starships/'\n",
    "\n",
    "starwars_list = [people_url, planets_url, starships_url]"
   ]
  },
  {
   "cell_type": "code",
   "execution_count": 8,
   "id": "8e107cdb-7b07-4feb-8c9c-474965a00f13",
   "metadata": {},
   "outputs": [],
   "source": [
    "def import_api(url):\n",
    "    response = requests.get(url)\n",
    "    data = response.json()\n",
    "    df = pd.DataFrame(data['results'])\n",
    "    while data['next'] != None:\n",
    "        print(data['next'])\n",
    "        response = requests.get(data['next'])\n",
    "        data = response.json()\n",
    "        df = pd.concat([df, pd.DataFrame(data['results'])], ignore_index=True)\n",
    "    return df"
   ]
  },
  {
   "cell_type": "code",
   "execution_count": 9,
   "id": "f63617f9-b94c-4b66-8c40-69d3f5b6c2f4",
   "metadata": {},
   "outputs": [
    {
     "name": "stdout",
     "output_type": "stream",
     "text": [
      "https://swapi.dev/api/people/?page=2\n",
      "https://swapi.dev/api/people/?page=3\n",
      "https://swapi.dev/api/people/?page=4\n",
      "https://swapi.dev/api/people/?page=5\n",
      "https://swapi.dev/api/people/?page=6\n",
      "https://swapi.dev/api/people/?page=7\n",
      "https://swapi.dev/api/people/?page=8\n",
      "https://swapi.dev/api/people/?page=9\n"
     ]
    }
   ],
   "source": [
    "people_df = import_api(people_url)"
   ]
  },
  {
   "cell_type": "code",
   "execution_count": 5,
   "id": "d5f0968b-0d24-4904-b538-069db118215e",
   "metadata": {},
   "outputs": [
    {
     "name": "stdout",
     "output_type": "stream",
     "text": [
      "https://swapi.dev/api/planets/?page=2\n",
      "https://swapi.dev/api/planets/?page=3\n",
      "https://swapi.dev/api/planets/?page=4\n",
      "https://swapi.dev/api/planets/?page=5\n",
      "https://swapi.dev/api/planets/?page=6\n"
     ]
    }
   ],
   "source": [
    "planets_df = import_api(planets_url)"
   ]
  },
  {
   "cell_type": "code",
   "execution_count": 6,
   "id": "f4d56ac3-f20b-41d3-bf02-c91ec96f05a9",
   "metadata": {},
   "outputs": [
    {
     "name": "stdout",
     "output_type": "stream",
     "text": [
      "https://swapi.dev/api/starships/?page=2\n",
      "https://swapi.dev/api/starships/?page=3\n",
      "https://swapi.dev/api/starships/?page=4\n"
     ]
    }
   ],
   "source": [
    "starships_df = import_api(starships_url)"
   ]
  },
  {
   "cell_type": "code",
   "execution_count": 9,
   "id": "f5cada33-a0f1-4114-aff3-f61ff5381d67",
   "metadata": {},
   "outputs": [],
   "source": [
    "people_df.to_csv('data/starwars_people.csv', index=False)\n",
    "planets_df.to_csv('data/starwars_planets.csv', index=False)\n",
    "starships_df.to_csv('data/starwars_starships.csv', index=False)"
   ]
  },
  {
   "cell_type": "code",
   "execution_count": 10,
   "id": "3ab453dd-dc21-4171-bca0-0d155af1b395",
   "metadata": {},
   "outputs": [
    {
     "data": {
      "text/html": [
       "<div>\n",
       "<style scoped>\n",
       "    .dataframe tbody tr th:only-of-type {\n",
       "        vertical-align: middle;\n",
       "    }\n",
       "\n",
       "    .dataframe tbody tr th {\n",
       "        vertical-align: top;\n",
       "    }\n",
       "\n",
       "    .dataframe thead th {\n",
       "        text-align: right;\n",
       "    }\n",
       "</style>\n",
       "<table border=\"1\" class=\"dataframe\">\n",
       "  <thead>\n",
       "    <tr style=\"text-align: right;\">\n",
       "      <th></th>\n",
       "      <th>name</th>\n",
       "      <th>height</th>\n",
       "      <th>mass</th>\n",
       "      <th>hair_color</th>\n",
       "      <th>skin_color</th>\n",
       "      <th>eye_color</th>\n",
       "      <th>birth_year</th>\n",
       "      <th>gender</th>\n",
       "      <th>homeworld</th>\n",
       "      <th>films</th>\n",
       "      <th>species</th>\n",
       "      <th>vehicles</th>\n",
       "      <th>starships</th>\n",
       "      <th>created</th>\n",
       "      <th>edited</th>\n",
       "      <th>url</th>\n",
       "    </tr>\n",
       "  </thead>\n",
       "  <tbody>\n",
       "    <tr>\n",
       "      <th>0</th>\n",
       "      <td>Luke Skywalker</td>\n",
       "      <td>172</td>\n",
       "      <td>77</td>\n",
       "      <td>blond</td>\n",
       "      <td>fair</td>\n",
       "      <td>blue</td>\n",
       "      <td>19BBY</td>\n",
       "      <td>male</td>\n",
       "      <td>https://swapi.dev/api/planets/1/</td>\n",
       "      <td>[https://swapi.dev/api/films/1/, https://swapi...</td>\n",
       "      <td>[]</td>\n",
       "      <td>[https://swapi.dev/api/vehicles/14/, https://s...</td>\n",
       "      <td>[https://swapi.dev/api/starships/12/, https://...</td>\n",
       "      <td>2014-12-09T13:50:51.644000Z</td>\n",
       "      <td>2014-12-20T21:17:56.891000Z</td>\n",
       "      <td>https://swapi.dev/api/people/1/</td>\n",
       "    </tr>\n",
       "    <tr>\n",
       "      <th>1</th>\n",
       "      <td>C-3PO</td>\n",
       "      <td>167</td>\n",
       "      <td>75</td>\n",
       "      <td>n/a</td>\n",
       "      <td>gold</td>\n",
       "      <td>yellow</td>\n",
       "      <td>112BBY</td>\n",
       "      <td>n/a</td>\n",
       "      <td>https://swapi.dev/api/planets/1/</td>\n",
       "      <td>[https://swapi.dev/api/films/1/, https://swapi...</td>\n",
       "      <td>[https://swapi.dev/api/species/2/]</td>\n",
       "      <td>[]</td>\n",
       "      <td>[]</td>\n",
       "      <td>2014-12-10T15:10:51.357000Z</td>\n",
       "      <td>2014-12-20T21:17:50.309000Z</td>\n",
       "      <td>https://swapi.dev/api/people/2/</td>\n",
       "    </tr>\n",
       "    <tr>\n",
       "      <th>2</th>\n",
       "      <td>R2-D2</td>\n",
       "      <td>96</td>\n",
       "      <td>32</td>\n",
       "      <td>n/a</td>\n",
       "      <td>white, blue</td>\n",
       "      <td>red</td>\n",
       "      <td>33BBY</td>\n",
       "      <td>n/a</td>\n",
       "      <td>https://swapi.dev/api/planets/8/</td>\n",
       "      <td>[https://swapi.dev/api/films/1/, https://swapi...</td>\n",
       "      <td>[https://swapi.dev/api/species/2/]</td>\n",
       "      <td>[]</td>\n",
       "      <td>[]</td>\n",
       "      <td>2014-12-10T15:11:50.376000Z</td>\n",
       "      <td>2014-12-20T21:17:50.311000Z</td>\n",
       "      <td>https://swapi.dev/api/people/3/</td>\n",
       "    </tr>\n",
       "    <tr>\n",
       "      <th>3</th>\n",
       "      <td>Darth Vader</td>\n",
       "      <td>202</td>\n",
       "      <td>136</td>\n",
       "      <td>none</td>\n",
       "      <td>white</td>\n",
       "      <td>yellow</td>\n",
       "      <td>41.9BBY</td>\n",
       "      <td>male</td>\n",
       "      <td>https://swapi.dev/api/planets/1/</td>\n",
       "      <td>[https://swapi.dev/api/films/1/, https://swapi...</td>\n",
       "      <td>[]</td>\n",
       "      <td>[]</td>\n",
       "      <td>[https://swapi.dev/api/starships/13/]</td>\n",
       "      <td>2014-12-10T15:18:20.704000Z</td>\n",
       "      <td>2014-12-20T21:17:50.313000Z</td>\n",
       "      <td>https://swapi.dev/api/people/4/</td>\n",
       "    </tr>\n",
       "    <tr>\n",
       "      <th>4</th>\n",
       "      <td>Leia Organa</td>\n",
       "      <td>150</td>\n",
       "      <td>49</td>\n",
       "      <td>brown</td>\n",
       "      <td>light</td>\n",
       "      <td>brown</td>\n",
       "      <td>19BBY</td>\n",
       "      <td>female</td>\n",
       "      <td>https://swapi.dev/api/planets/2/</td>\n",
       "      <td>[https://swapi.dev/api/films/1/, https://swapi...</td>\n",
       "      <td>[]</td>\n",
       "      <td>[https://swapi.dev/api/vehicles/30/]</td>\n",
       "      <td>[]</td>\n",
       "      <td>2014-12-10T15:20:09.791000Z</td>\n",
       "      <td>2014-12-20T21:17:50.315000Z</td>\n",
       "      <td>https://swapi.dev/api/people/5/</td>\n",
       "    </tr>\n",
       "  </tbody>\n",
       "</table>\n",
       "</div>"
      ],
      "text/plain": [
       "             name height mass hair_color   skin_color eye_color birth_year  \\\n",
       "0  Luke Skywalker    172   77      blond         fair      blue      19BBY   \n",
       "1           C-3PO    167   75        n/a         gold    yellow     112BBY   \n",
       "2           R2-D2     96   32        n/a  white, blue       red      33BBY   \n",
       "3     Darth Vader    202  136       none        white    yellow    41.9BBY   \n",
       "4     Leia Organa    150   49      brown        light     brown      19BBY   \n",
       "\n",
       "   gender                         homeworld  \\\n",
       "0    male  https://swapi.dev/api/planets/1/   \n",
       "1     n/a  https://swapi.dev/api/planets/1/   \n",
       "2     n/a  https://swapi.dev/api/planets/8/   \n",
       "3    male  https://swapi.dev/api/planets/1/   \n",
       "4  female  https://swapi.dev/api/planets/2/   \n",
       "\n",
       "                                               films  \\\n",
       "0  [https://swapi.dev/api/films/1/, https://swapi...   \n",
       "1  [https://swapi.dev/api/films/1/, https://swapi...   \n",
       "2  [https://swapi.dev/api/films/1/, https://swapi...   \n",
       "3  [https://swapi.dev/api/films/1/, https://swapi...   \n",
       "4  [https://swapi.dev/api/films/1/, https://swapi...   \n",
       "\n",
       "                              species  \\\n",
       "0                                  []   \n",
       "1  [https://swapi.dev/api/species/2/]   \n",
       "2  [https://swapi.dev/api/species/2/]   \n",
       "3                                  []   \n",
       "4                                  []   \n",
       "\n",
       "                                            vehicles  \\\n",
       "0  [https://swapi.dev/api/vehicles/14/, https://s...   \n",
       "1                                                 []   \n",
       "2                                                 []   \n",
       "3                                                 []   \n",
       "4               [https://swapi.dev/api/vehicles/30/]   \n",
       "\n",
       "                                           starships  \\\n",
       "0  [https://swapi.dev/api/starships/12/, https://...   \n",
       "1                                                 []   \n",
       "2                                                 []   \n",
       "3              [https://swapi.dev/api/starships/13/]   \n",
       "4                                                 []   \n",
       "\n",
       "                       created                       edited  \\\n",
       "0  2014-12-09T13:50:51.644000Z  2014-12-20T21:17:56.891000Z   \n",
       "1  2014-12-10T15:10:51.357000Z  2014-12-20T21:17:50.309000Z   \n",
       "2  2014-12-10T15:11:50.376000Z  2014-12-20T21:17:50.311000Z   \n",
       "3  2014-12-10T15:18:20.704000Z  2014-12-20T21:17:50.313000Z   \n",
       "4  2014-12-10T15:20:09.791000Z  2014-12-20T21:17:50.315000Z   \n",
       "\n",
       "                               url  \n",
       "0  https://swapi.dev/api/people/1/  \n",
       "1  https://swapi.dev/api/people/2/  \n",
       "2  https://swapi.dev/api/people/3/  \n",
       "3  https://swapi.dev/api/people/4/  \n",
       "4  https://swapi.dev/api/people/5/  "
      ]
     },
     "execution_count": 10,
     "metadata": {},
     "output_type": "execute_result"
    }
   ],
   "source": [
    "people_df.head()"
   ]
  },
  {
   "cell_type": "markdown",
   "id": "508e8fa6-f9b4-46f5-9b7b-cb4b124c1cfc",
   "metadata": {},
   "source": [
    "## This is a title"
   ]
  },
  {
   "cell_type": "code",
   "execution_count": null,
   "id": "8eb80eea-ac9b-4c12-9288-c14852096475",
   "metadata": {},
   "outputs": [],
   "source": []
  }
 ],
 "metadata": {
  "kernelspec": {
   "display_name": "Python 3 (ipykernel)",
   "language": "python",
   "name": "python3"
  },
  "language_info": {
   "codemirror_mode": {
    "name": "ipython",
    "version": 3
   },
   "file_extension": ".py",
   "mimetype": "text/x-python",
   "name": "python",
   "nbconvert_exporter": "python",
   "pygments_lexer": "ipython3",
   "version": "3.9.15"
  }
 },
 "nbformat": 4,
 "nbformat_minor": 5
}
